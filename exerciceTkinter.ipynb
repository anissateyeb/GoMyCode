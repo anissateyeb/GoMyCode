{
  "nbformat": 4,
  "nbformat_minor": 0,
  "metadata": {
    "colab": {
      "provenance": [],
      "authorship_tag": "ABX9TyO1RYj75Dz+w8KzvS0UYTeB",
      "include_colab_link": true
    },
    "kernelspec": {
      "name": "python3",
      "display_name": "Python 3"
    },
    "language_info": {
      "name": "python"
    }
  },
  "cells": [
    {
      "cell_type": "markdown",
      "metadata": {
        "id": "view-in-github",
        "colab_type": "text"
      },
      "source": [
        "<a href=\"https://colab.research.google.com/github/anissateyeb/GoMyCode/blob/main/exerciceTkinter.ipynb\" target=\"_parent\"><img src=\"https://colab.research.google.com/assets/colab-badge.svg\" alt=\"Open In Colab\"/></a>"
      ]
    },
    {
      "cell_type": "code",
      "execution_count": null,
      "metadata": {
        "id": "wjEhg-FjTqMQ"
      },
      "outputs": [],
      "source": [
        "import tkinter as tk\n",
        "\n",
        "\n",
        "def fahrenheit_to_celsius():\n",
        "    f = int(ent_temperature.get())\n",
        "    c =int((f - 32) /1.8)\n",
        "    lbl_result.config(text=c)\n",
        "\n",
        "\n",
        "window = tk.Tk()\n",
        "window.title(\"Convertisseur de température\")\n",
        "window.resizable(width=False, height=False)\n",
        "\n",
        "frm_entry = tk.Frame(master=window)\n",
        "tk.Entry(master=frm_entry, width=10)\n",
        "tk.Label(master=frm_entry, text=\"\\N{DEGREE FAHRENHEIT}\")\n",
        "#6\n",
        "ent_temperature = tk.Entry(master=frm_entry, width=10)\n",
        "#7\n",
        "lbl_temp = tk.Label(master=frm_entry, text=\"\\N{DEGREE FAHRENHEIT}\")\n",
        "#8\n",
        "ent_temperature.grid(row=0, column=0, sticky=\"e\")\n",
        "lbl_temp.grid(row=0, column=1, sticky=\"w\")\n",
        "#9\n",
        "btn_convert = tk.Button(master=window, text=\"\\N{RIGHTWARDS BLACK ARROW}\", command=fahrenheit_to_celsius)\n",
        "#10\n",
        "lbl_result = tk.Label(master=window, text=\"\\N{DEGREE CELSIUS}\")\n",
        "#11\n",
        "frm_entry.grid(row=0, column=0, padx=10)\n",
        "btn_convert.grid(row=0, column=1, pady=10)\n",
        "lbl_result.grid(row=0, column=2, padx= 10)\n",
        "\n",
        "\n",
        "\n",
        "window.mainloop()\n"
      ]
    }
  ]
}