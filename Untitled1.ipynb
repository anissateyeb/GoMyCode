{
  "nbformat": 4,
  "nbformat_minor": 0,
  "metadata": {
    "colab": {
      "provenance": [],
      "authorship_tag": "ABX9TyNbI52DpGbe9zkLUTBAmoGC",
      "include_colab_link": true
    },
    "kernelspec": {
      "name": "python3",
      "display_name": "Python 3"
    },
    "language_info": {
      "name": "python"
    }
  },
  "cells": [
    {
      "cell_type": "markdown",
      "metadata": {
        "id": "view-in-github",
        "colab_type": "text"
      },
      "source": [
        "<a href=\"https://colab.research.google.com/github/anissateyeb/GoMyCode/blob/main/Untitled1.ipynb\" target=\"_parent\"><img src=\"https://colab.research.google.com/assets/colab-badge.svg\" alt=\"Open In Colab\"/></a>"
      ]
    },
    {
      "cell_type": "code",
      "execution_count": 59,
      "metadata": {
        "id": "i8-oaPNMDCJs",
        "colab": {
          "base_uri": "https://localhost:8080/"
        },
        "outputId": "3ac357fb-eadd-4f94-848c-7a483230c764"
      },
      "outputs": [
        {
          "output_type": "stream",
          "name": "stdout",
          "text": [
            "Entrer un premier nombre 3\n",
            "Entrer un deuxième nombre 2\n",
            "Enter an operator (+, -, *, /) (\n",
            "Enter an operator (+, -, *, /) \"\n",
            "Enter an operator (+, -, *, /) /\n",
            "Le résultat est :  1.5\n"
          ]
        }
      ],
      "source": [
        "\n",
        "def somme(x,y):\n",
        "  return x+y\n",
        "def soustraction(x,y):\n",
        "  return x-y\n",
        "def produit(x,y):\n",
        "  return x*y\n",
        "def division(x,y):\n",
        "  return x/y\n",
        "\n",
        "def calculatrice(num1,num2):\n",
        "  my_operator= ['+', '-', '*', '/']\n",
        "  num1=int(input(\"Entrer un premier nombre \"))\n",
        "  num2=int(input(\"Entrer un deuxième nombre \"))\n",
        "  z=input(\"Enter an operator (+, -, *, /) \")\n",
        "  while z not in my_operator:\n",
        "    z=input(\"Enter an operator (+, -, *, /) \")\n",
        "  if z== '+' :\n",
        "    result=somme(num1,num2)\n",
        "  elif z=='-':\n",
        "    result=soustraction(num1,num2)\n",
        "  elif z=='*':\n",
        "    result=produit(num1,num2)\n",
        "  elif z=='/':\n",
        "    if num2==0:\n",
        "      return 'impossible la division par 0'\n",
        "    else:\n",
        "      result=division(num1,num2)\n",
        "  return result\n",
        "print(\"Le résultat est : \", calculatrice(num1,num2))\n",
        "\n",
        "\n"
      ]
    }
  ]
}