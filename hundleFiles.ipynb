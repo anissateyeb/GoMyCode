{
  "nbformat": 4,
  "nbformat_minor": 0,
  "metadata": {
    "colab": {
      "provenance": [],
      "authorship_tag": "ABX9TyMDsweqo/TUUgJUefr8vTS8",
      "include_colab_link": true
    },
    "kernelspec": {
      "name": "python3",
      "display_name": "Python 3"
    },
    "language_info": {
      "name": "python"
    }
  },
  "cells": [
    {
      "cell_type": "markdown",
      "metadata": {
        "id": "view-in-github",
        "colab_type": "text"
      },
      "source": [
        "<a href=\"https://colab.research.google.com/github/anissateyeb/GoMyCode/blob/main/hundleFiles.ipynb\" target=\"_parent\"><img src=\"https://colab.research.google.com/assets/colab-badge.svg\" alt=\"Open In Colab\"/></a>"
      ]
    },
    {
      "cell_type": "code",
      "source": [],
      "metadata": {
        "id": "S1XnE-S1Kjf3"
      },
      "execution_count": null,
      "outputs": []
    },
    {
      "cell_type": "code",
      "execution_count": null,
      "metadata": {
        "id": "RqoiEw7HzAw8"
      },
      "outputs": [],
      "source": [
        "#1. Write a Python program to read an entire text file.\n",
        "f = open(\"/test.txt\", 'r', encoding='utf-8')\n",
        "f.read()\n"
      ]
    },
    {
      "cell_type": "markdown",
      "source": [],
      "metadata": {
        "id": "CUBnB4FQKe6V"
      }
    },
    {
      "cell_type": "code",
      "source": [
        "#2. Write a Python program to read the first n lines of a file.\n",
        "for textline in (linesList[:N]):\n",
        "#3. Write a Python program to read the last n lines of a file.\n",
        "for line in (file.readlines() [-N:]):\n",
        "  print(line, end ='')\n",
        "#4. Write a Python program that takes a text file as input and returns the number of words of a given text file.\n",
        "def count_words(filepath):\n",
        "   with open(filepath) as f:\n",
        "       data = f.read()\n",
        "       data.replace(\",\", \" \")\n",
        "       return len(data.split(\" \"))\n",
        "print(count_words(\"test.txt\"))\n"
      ],
      "metadata": {
        "id": "O7yhVvVmJBwb"
      },
      "execution_count": null,
      "outputs": []
    }
  ]
}