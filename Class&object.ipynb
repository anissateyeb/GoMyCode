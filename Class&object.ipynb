{
  "nbformat": 4,
  "nbformat_minor": 0,
  "metadata": {
    "colab": {
      "provenance": [],
      "authorship_tag": "ABX9TyM7//xBZAdbpMCtwgbnydxX",
      "include_colab_link": true
    },
    "kernelspec": {
      "name": "python3",
      "display_name": "Python 3"
    },
    "language_info": {
      "name": "python"
    }
  },
  "cells": [
    {
      "cell_type": "markdown",
      "metadata": {
        "id": "view-in-github",
        "colab_type": "text"
      },
      "source": [
        "<a href=\"https://colab.research.google.com/github/anissateyeb/GoMyCode/blob/main/Class%26object.ipynb\" target=\"_parent\"><img src=\"https://colab.research.google.com/assets/colab-badge.svg\" alt=\"Open In Colab\"/></a>"
      ]
    },
    {
      "cell_type": "code",
      "execution_count": null,
      "metadata": {
        "colab": {
          "base_uri": "https://localhost:8080/"
        },
        "id": "F5-MhcTG7v7F",
        "outputId": "2fd938d3-e7e8-4cbb-daa4-04901e4404f6"
      },
      "outputs": [
        {
          "output_type": "stream",
          "name": "stdout",
          "text": [
            "(1, 2, 3)\n"
          ]
        }
      ],
      "source": [
        "#Question 1\n",
        "class Point3D():\n",
        "\n",
        "    # instance attributes\n",
        "    def __init__(self, x, y, z):\n",
        "        self.x = x\n",
        "        self.y = y\n",
        "        self.z = z\n",
        "\n",
        "    # instance method\n",
        "    def coordonnées(self):\n",
        "        return (self.x,self.y,self.z)\n",
        "\n",
        "  # instantiate the object\n",
        "my_point = Point3D(1,2,3)\n",
        "\n",
        "# call our instance methods\n",
        "print(my_point.coordonnées())\n",
        "\n",
        "\n",
        "\n",
        "\n"
      ]
    },
    {
      "cell_type": "code",
      "source": [
        "#Question 2\n",
        "class Rectangle():\n",
        "  def __init__(self,L, l):\n",
        "    self.longueur = L\n",
        "    self.largeur = l\n",
        "\n",
        "  def aire(self):\n",
        "    return self.longueur*self.largeur\n",
        "\n",
        "  def perimetre(self):\n",
        "    return 2*(self.longueur+self.largeur)\n",
        "\n",
        "my_rectangle=Rectangle(3,4)\n",
        "print(\"l'aire est {}\".format(my_rectangle.aire()))\n",
        "print(\"le périmètre est {}\".format(my_rectangle.perimetre()))"
      ],
      "metadata": {
        "colab": {
          "base_uri": "https://localhost:8080/"
        },
        "id": "-9P4eziChn21",
        "outputId": "eb1f02b5-4345-4bbb-97ab-45950493553e"
      },
      "execution_count": 1,
      "outputs": [
        {
          "output_type": "stream",
          "name": "stdout",
          "text": [
            "l'aire est 12\n",
            "le périmètre est 14\n"
          ]
        }
      ]
    },
    {
      "cell_type": "code",
      "source": [
        "#Question 3\n",
        "class Circle():\n",
        "    def __init__(self, r):\n",
        "        self.radius = r\n",
        "\n",
        "    def area(self):\n",
        "        return self.radius**2*3.14\n",
        "\n",
        "    def perimeter(self):\n",
        "        return 2*self.radius*3.14\n",
        "\n",
        "NewCircle = Circle(8)\n",
        "print(NewCircle.area())\n",
        "print(NewCircle.perimeter())\n",
        "\n",
        "\n"
      ],
      "metadata": {
        "colab": {
          "base_uri": "https://localhost:8080/"
        },
        "id": "7TqvHBYk-f11",
        "outputId": "c83ce8c2-a39d-48e0-91c0-954842b6e54e"
      },
      "execution_count": null,
      "outputs": [
        {
          "output_type": "stream",
          "name": "stdout",
          "text": [
            "200.96\n",
            "50.24\n"
          ]
        }
      ]
    },
    {
      "cell_type": "code",
      "source": [
        "#Question 4\n",
        "class Bank():\n",
        "  def __init__(self, s):\n",
        "        self.solde = s\n",
        "\n",
        "  def depot(self, argent):\n",
        "        self.solde = self.solde + argent\n",
        "\n",
        "  def retrait(self, argent):\n",
        "        self.solde = self.solde - argent\n",
        "\n",
        "\n",
        "nouveau_solde = Bank(200)\n",
        "nouveau_solde.depot(100)\n",
        "nouveau_solde.retrait(30)\n",
        "print(\" Solde  : \", nouveau_solde.solde)\n"
      ],
      "metadata": {
        "id": "RlLqyOXNuWkD",
        "colab": {
          "base_uri": "https://localhost:8080/"
        },
        "outputId": "3581a110-10b2-4293-ae9f-35dda0afd05b"
      },
      "execution_count": 9,
      "outputs": [
        {
          "output_type": "stream",
          "name": "stdout",
          "text": [
            " Solde  :  270\n"
          ]
        }
      ]
    }
  ]
}