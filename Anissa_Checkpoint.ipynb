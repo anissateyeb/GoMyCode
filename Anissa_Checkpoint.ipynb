{
  "nbformat": 4,
  "nbformat_minor": 0,
  "metadata": {
    "colab": {
      "provenance": [],
      "authorship_tag": "ABX9TyPLjSCUv70679LzxWb0F209",
      "include_colab_link": true
    },
    "kernelspec": {
      "name": "python3",
      "display_name": "Python 3"
    },
    "language_info": {
      "name": "python"
    }
  },
  "cells": [
    {
      "cell_type": "markdown",
      "metadata": {
        "id": "view-in-github",
        "colab_type": "text"
      },
      "source": [
        "<a href=\"https://colab.research.google.com/github/anissateyeb/GoMyCode/blob/main/Anissa_Checkpoint.ipynb\" target=\"_parent\"><img src=\"https://colab.research.google.com/assets/colab-badge.svg\" alt=\"Open In Colab\"/></a>"
      ]
    },
    {
      "cell_type": "code",
      "execution_count": null,
      "metadata": {
        "colab": {
          "base_uri": "https://localhost:8080/"
        },
        "id": "fCUbOmWAAykr",
        "outputId": "fb145bfb-e4de-4703-942f-8384aff4e0d8"
      },
      "outputs": [
        {
          "output_type": "stream",
          "name": "stdout",
          "text": [
            "36\n"
          ]
        }
      ],
      "source": [
        "#Question 1\n",
        "def multiplicate_list(my_list):\n",
        "  R=1\n",
        "  for i in my_list:\n",
        "    R=R*i\n",
        "  return(R)\n",
        "L=[2,3,6]\n",
        "print(multiplicate_list(L))\n",
        "\n"
      ]
    },
    {
      "cell_type": "code",
      "source": [
        "#Question 2\n",
        "def getKey(tuple):\n",
        "  return tuple[-1]\n",
        "L=[(2, 5), (1, 2), (4, 4), (2, 3), (2, 1)]\n",
        "sorted(L, key =getKey)\n"
      ],
      "metadata": {
        "colab": {
          "base_uri": "https://localhost:8080/"
        },
        "id": "aJeU6TZOU5Lc",
        "outputId": "860e1778-6633-4dce-ed37-26ed928f371a"
      },
      "execution_count": null,
      "outputs": [
        {
          "output_type": "execute_result",
          "data": {
            "text/plain": [
              "[(2, 1), (1, 2), (2, 3), (4, 4), (2, 5)]"
            ]
          },
          "metadata": {},
          "execution_count": 1
        }
      ]
    },
    {
      "cell_type": "code",
      "source": [
        "#Question 3\n",
        "from collections import Counter\n",
        "def combine_dict(my_dict1, my_dict2):\n",
        "  d = Counter(my_dict1) + Counter(my_dict2)\n",
        "  return d\n",
        "d1 = {'a' : 100, 'b' : 200, 'c' : 300}\n",
        "d2 = {'a' : 300, 'b' : 200, 'd' : 400}\n",
        "print(combine_dict(d1,d2))"
      ],
      "metadata": {
        "colab": {
          "base_uri": "https://localhost:8080/"
        },
        "id": "RLapsIY5VB4h",
        "outputId": "59337560-dcfa-4f11-8c0b-cc03a209dfb8"
      },
      "execution_count": null,
      "outputs": [
        {
          "output_type": "stream",
          "name": "stdout",
          "text": [
            "Counter({'a': 400, 'b': 400, 'd': 400, 'c': 300})\n"
          ]
        }
      ]
    },
    {
      "cell_type": "code",
      "source": [
        "#Quetion 4\n",
        "my_dict={}\n",
        "for i in range(1,9,1):\n",
        "  my_dict[i]=i*i\n",
        "print(my_dict)"
      ],
      "metadata": {
        "colab": {
          "base_uri": "https://localhost:8080/"
        },
        "id": "y8J8EO04VaQf",
        "outputId": "e32163b3-b2b2-42f5-8a7d-dbee182d6119"
      },
      "execution_count": null,
      "outputs": [
        {
          "output_type": "stream",
          "name": "stdout",
          "text": [
            "{1: 1, 2: 4, 3: 9, 4: 16, 5: 25, 6: 36, 7: 49, 8: 64}\n"
          ]
        }
      ]
    },
    {
      "cell_type": "code",
      "source": [
        "#Question6\n",
        "my_set={0,1,2,3,4}\n",
        "my_set.add(5)\n",
        "my_set.remove(1)\n",
        "print(my_set)"
      ],
      "metadata": {
        "colab": {
          "base_uri": "https://localhost:8080/"
        },
        "id": "F18VapqFPogJ",
        "outputId": "0d8dac8b-71cd-4bb9-c7d7-3791b067456c"
      },
      "execution_count": 1,
      "outputs": [
        {
          "output_type": "stream",
          "name": "stdout",
          "text": [
            "{0, 2, 3, 4, 5}\n"
          ]
        }
      ]
    },
    {
      "cell_type": "code",
      "source": [],
      "metadata": {
        "id": "UHeONYVXa4it"
      },
      "execution_count": null,
      "outputs": []
    }
  ]
}