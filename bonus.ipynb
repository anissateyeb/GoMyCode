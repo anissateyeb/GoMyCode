{
  "cells": [
    {
      "cell_type": "markdown",
      "metadata": {
        "id": "view-in-github",
        "colab_type": "text"
      },
      "source": [
        "<a href=\"https://colab.research.google.com/github/anissateyeb/GoMyCode/blob/main/bonus.ipynb\" target=\"_parent\"><img src=\"https://colab.research.google.com/assets/colab-badge.svg\" alt=\"Open In Colab\"/></a>"
      ]
    },
    {
      "cell_type": "code",
      "execution_count": 12,
      "metadata": {
        "colab": {
          "base_uri": "https://localhost:8080/"
        },
        "id": "khL9l6eqA9x5",
        "outputId": "24d5c908-5b61-4212-ee68-e0f1911e969b"
      },
      "outputs": [
        {
          "output_type": "stream",
          "name": "stdout",
          "text": [
            "[[1. 2.]\n",
            " [3. 4.]]\n",
            "[[5. 6.]\n",
            " [0. 8.]]\n",
            "4\n",
            "(array([[ 6.,  8.],\n",
            "       [ 3., 12.]]), array([[ 4.,  4.],\n",
            "       [-3.,  4.]]), array([[ 5., 12.],\n",
            "       [ 0., 32.]]), array([[0.2       , 0.33333333],\n",
            "       [       inf, 0.5       ]]), '5.00', 8.0)\n"
          ]
        },
        {
          "output_type": "stream",
          "name": "stderr",
          "text": [
            "<ipython-input-12-05889ec86420>:21: RuntimeWarning: divide by zero encountered in true_divide\n",
            "  D= T1/T2\n"
          ]
        }
      ],
      "source": [
        "def array_operations():\n",
        "  import numpy as np\n",
        "  T1=np.array([[1,2],[3,4]], dtype=np.float64)\n",
        "  T2=np.array([[5,6],[0,8]], dtype=np.float64)\n",
        "  print(T1)\n",
        "  print(T2)\n",
        "  A=T1+T2\n",
        "  B=T2-T1\n",
        "  C=T1*T2\n",
        "  moy=format(sum(sum(T1))/len(T1), '.2f')\n",
        "  max=np.max(T2)\n",
        "  print(np.size(T1))\n",
        "  Taille1=np.size(T1)\n",
        "  Taille2=np.size(T2)\n",
        "  #D= np.zeros(Taille1, Taille2)\n",
        "  for i in range(Taille1):\n",
        "    for j in range(Taille2):\n",
        "      if j==0:\n",
        "        D=0\n",
        "      else:\n",
        "        D= T1/T2\n",
        "  return A,B,C,D ,moy, max\n",
        "print(array_operations())\n"
      ]
    }
  ],
  "metadata": {
    "colab": {
      "provenance": [],
      "authorship_tag": "ABX9TyMDi30J3NW1dn/mFbOR4LBu",
      "include_colab_link": true
    },
    "kernelspec": {
      "display_name": "Python 3",
      "name": "python3"
    },
    "language_info": {
      "name": "python"
    }
  },
  "nbformat": 4,
  "nbformat_minor": 0
}