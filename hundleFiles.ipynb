{
  "nbformat": 4,
  "nbformat_minor": 0,
  "metadata": {
    "colab": {
      "provenance": [],
      "authorship_tag": "ABX9TyMN+Hp31P817cIoXgYy1Nzz",
      "include_colab_link": true
    },
    "kernelspec": {
      "name": "python3",
      "display_name": "Python 3"
    },
    "language_info": {
      "name": "python"
    }
  },
  "cells": [
    {
      "cell_type": "markdown",
      "metadata": {
        "id": "view-in-github",
        "colab_type": "text"
      },
      "source": [
        "<a href=\"https://colab.research.google.com/github/anissateyeb/GoMyCode/blob/main/hundleFiles.ipynb\" target=\"_parent\"><img src=\"https://colab.research.google.com/assets/colab-badge.svg\" alt=\"Open In Colab\"/></a>"
      ]
    },
    {
      "cell_type": "code",
      "execution_count": 9,
      "metadata": {
        "colab": {
          "base_uri": "https://localhost:8080/",
          "height": 131
        },
        "id": "RqoiEw7HzAw8",
        "outputId": "c0a7fb65-8a01-4b11-c2f5-5661ee5539d0"
      },
      "outputs": [
        {
          "output_type": "error",
          "ename": "IndentationError",
          "evalue": "ignored",
          "traceback": [
            "\u001b[0;36m  File \u001b[0;32m\"<ipython-input-9-6f4a6d24b19b>\"\u001b[0;36m, line \u001b[0;32m7\u001b[0m\n\u001b[0;31m    for line in (file.readlines() [-N:]):\u001b[0m\n\u001b[0m    ^\u001b[0m\n\u001b[0;31mIndentationError\u001b[0m\u001b[0;31m:\u001b[0m expected an indented block after 'for' statement on line 5\n"
          ]
        }
      ],
      "source": [
        "#1. Write a Python program to read an entire text file.\n",
        "f = open(\"test.txt\", 'r', encoding='utf-8')\n",
        "f.read()\n",
        "#2. Write a Python program to read the first n lines of a file.\n",
        "for textline in (linesList[:N]):\n",
        "#3. Write a Python program to read the last n lines of a file.\n",
        "for line in (file.readlines() [-N:]):\n",
        "  print(line, end ='')\n",
        "#4. Write a Python program that takes a text file as input and returns the number of words of a given text file.\n",
        "def count_words(filepath):\n",
        "   with open(filepath) as f:\n",
        "       data = f.read()\n",
        "       data.replace(\",\", \" \")\n",
        "       return len(data.split(\" \"))\n",
        "print(count_words(\"test.txt\"))\n"
      ]
    }
  ]
}