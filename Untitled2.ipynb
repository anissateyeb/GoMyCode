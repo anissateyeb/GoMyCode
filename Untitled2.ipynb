{
  "nbformat": 4,
  "nbformat_minor": 0,
  "metadata": {
    "colab": {
      "provenance": [],
      "authorship_tag": "ABX9TyPXGECpXORP0u82flannYqd",
      "include_colab_link": true
    },
    "kernelspec": {
      "name": "python3",
      "display_name": "Python 3"
    },
    "language_info": {
      "name": "python"
    }
  },
  "cells": [
    {
      "cell_type": "markdown",
      "metadata": {
        "id": "view-in-github",
        "colab_type": "text"
      },
      "source": [
        "<a href=\"https://colab.research.google.com/github/anissateyeb/GoMyCode/blob/main/Untitled2.ipynb\" target=\"_parent\"><img src=\"https://colab.research.google.com/assets/colab-badge.svg\" alt=\"Open In Colab\"/></a>"
      ]
    },
    {
      "cell_type": "code",
      "execution_count": 65,
      "metadata": {
        "colab": {
          "base_uri": "https://localhost:8080/"
        },
        "id": "0pV7GNMZC86b",
        "outputId": "4329918c-952d-4568-a929-e1cc6a0fd254"
      },
      "outputs": [
        {
          "output_type": "stream",
          "name": "stdout",
          "text": [
            "Entrer le nombre d'élèves 3\n",
            "Entrer le nombre de matières 2\n",
            "Donner la note de l'eleve 15\n",
            "Donner la note de l'eleve 17\n",
            "Donner la note de l'eleve 19\n",
            "Donner la note de l'eleve 20\n",
            "Donner la note de l'eleve 11\n",
            "Donner la note de l'eleve 12\n",
            "[[15. 17.]\n",
            " [19. 20.]\n",
            " [11. 12.]]\n",
            "32.0   16.0   F\n",
            "39.0   19.5   F\n",
            "23.0   11.5   F\n"
          ]
        }
      ],
      "source": [
        "nbe = int(input(\"Entrer le nombre d'élèves \")) #nombre d'élèves\n",
        "nbm = int(input(\"Entrer le nombre de matières \"))#ombre de matières\n",
        "import numpy as np\n",
        "T_notes = np.zeros((nbe,nbm))\n",
        "for i in range(nbe):\n",
        "  for j in range(nbm):\n",
        "    T_notes[i][j] = input(\"Donner la note de l'eleve \")\n",
        "print(T_notes)\n",
        "for i in range(nbe):\n",
        "  sum=0\n",
        "  list=[]\n",
        "  for j in range(nbm):\n",
        "    list.append(T_notes[i][j])\n",
        "  sum=np.sum(list)\n",
        "  pourcentage = (sum / (nbm * 100)) * 100\n",
        "\n",
        "  if pourcentage>= 90:\n",
        "    print(sum, \" \", pourcentage, \" \", \"A+\")\n",
        "  elif pourcentage >= 80:\n",
        "        print(sum, \" \", pourcentage, \" \", \"A\")\n",
        "  elif pourcentage >= 70:\n",
        "    print(sum, \" \", pourcentage, \" \", \"B+\")\n",
        "  elif pourcentage >= 60:\n",
        "    print(sum, \" \", pourcentage, \" \", \"B\")\n",
        "  elif pourcentage >= 50:\n",
        "    print(sum, \" \", pourcentage, \" \", \"C\")\n",
        "  else:\n",
        "    print(sum, \" \", pourcentage, \" \", \"F\")\n",
        ""
      ]
    }
  ]
}