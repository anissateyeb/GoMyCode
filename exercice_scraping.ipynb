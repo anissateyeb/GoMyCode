{
  "nbformat": 4,
  "nbformat_minor": 0,
  "metadata": {
    "colab": {
      "provenance": [],
      "authorship_tag": "ABX9TyOZh7jC/furcTxLQVEkamuX",
      "include_colab_link": true
    },
    "kernelspec": {
      "name": "python3",
      "display_name": "Python 3"
    },
    "language_info": {
      "name": "python"
    }
  },
  "cells": [
    {
      "cell_type": "markdown",
      "metadata": {
        "id": "view-in-github",
        "colab_type": "text"
      },
      "source": [
        "<a href=\"https://colab.research.google.com/github/anissateyeb/GoMyCode/blob/main/exercice_scraping.ipynb\" target=\"_parent\"><img src=\"https://colab.research.google.com/assets/colab-badge.svg\" alt=\"Open In Colab\"/></a>"
      ]
    },
    {
      "cell_type": "code",
      "execution_count": 9,
      "metadata": {
        "colab": {
          "base_uri": "https://localhost:8080/",
          "height": 35
        },
        "id": "5r7lM-9tbPlq",
        "outputId": "fb9d1545-08df-49fb-bd84-67f1f731716f"
      },
      "outputs": [
        {
          "output_type": "execute_result",
          "data": {
            "text/plain": [
              "'Use urllib2 in combination with the brilliant BeautifulSoup library:'"
            ],
            "application/vnd.google.colaboratory.intrinsic+json": {
              "type": "string"
            }
          },
          "metadata": {},
          "execution_count": 9
        }
      ],
      "source": [
        "import requests\n",
        "from bs4 import BeautifulSoup\n",
        "\n",
        "link = \"https://stackoverflow.com/questions/2081586/web-scraping-with-python\"\n",
        "page = requests.get(link)\n",
        "soup = BeautifulSoup(page.content, 'html.parser')\n",
        "container = soup.find(\"div\",{\"id\":\"answer-2082025\"})\n",
        "container.find(\"div\",{\"class\":\"s-prose js-post-body\"}).find(\"p\").get_text()\n"
      ]
    }
  ]
}