{
  "nbformat": 4,
  "nbformat_minor": 0,
  "metadata": {
    "colab": {
      "provenance": [],
      "authorship_tag": "ABX9TyORs3B2eyYwg/rbjasE4niF",
      "include_colab_link": true
    },
    "kernelspec": {
      "name": "python3",
      "display_name": "Python 3"
    },
    "language_info": {
      "name": "python"
    }
  },
  "cells": [
    {
      "cell_type": "markdown",
      "metadata": {
        "id": "view-in-github",
        "colab_type": "text"
      },
      "source": [
        "<a href=\"https://colab.research.google.com/github/anissateyeb/GoMyCode/blob/main/anissa_devinette.ipynb\" target=\"_parent\"><img src=\"https://colab.research.google.com/assets/colab-badge.svg\" alt=\"Open In Colab\"/></a>"
      ]
    },
    {
      "cell_type": "code",
      "execution_count": 5,
      "metadata": {
        "colab": {
          "base_uri": "https://localhost:8080/"
        },
        "id": "BTw6fJR9NVCh",
        "outputId": "b011f317-f658-4ec2-c8e4-c4534a86dfb4"
      },
      "outputs": [
        {
          "output_type": "stream",
          "name": "stdout",
          "text": [
            "Welcome to the Guess the Number game!\n",
            "89\n",
            "Enter your guess: 7\n",
            "Your guess is too low. Guess again.\n",
            "Enter your guess: 99\n",
            "Your guess is too high. Guess again.\n",
            "Enter your guess: 66\n",
            "Your guess is too low. Guess again.\n",
            "Enter your guess: 89\n",
            "Congratulations! You guessed the number correctly!\n"
          ]
        }
      ],
      "source": [
        "print('Welcome to the Guess the Number game!')\n",
        "import random\n",
        "x=random.randint(1,100)\n",
        "print(x)\n",
        "str=input(\"Enter your guess: \")\n",
        "y=int(str)\n",
        "while x!=y:\n",
        "  if y<x:\n",
        "    print('Your guess is too low. Guess again.')\n",
        "  elif y>x:\n",
        "    print('Your guess is too high. Guess again.')\n",
        "\n",
        "\n",
        "  str=input(\"Enter your guess: \")\n",
        "  y=int(str)\n",
        "print('Congratulations! You guessed the number correctly!')\n",
        "\n"
      ]
    }
  ]
}