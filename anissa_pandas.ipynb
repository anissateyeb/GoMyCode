{
  "nbformat": 4,
  "nbformat_minor": 0,
  "metadata": {
    "colab": {
      "provenance": [],
      "authorship_tag": "ABX9TyP/sC6fBcpphC4BYtibNAjX",
      "include_colab_link": true
    },
    "kernelspec": {
      "name": "python3",
      "display_name": "Python 3"
    },
    "language_info": {
      "name": "python"
    }
  },
  "cells": [
    {
      "cell_type": "markdown",
      "metadata": {
        "id": "view-in-github",
        "colab_type": "text"
      },
      "source": [
        "<a href=\"https://colab.research.google.com/github/anissateyeb/GoMyCode/blob/main/anissa_pandas.ipynb\" target=\"_parent\"><img src=\"https://colab.research.google.com/assets/colab-badge.svg\" alt=\"Open In Colab\"/></a>"
      ]
    },
    {
      "cell_type": "code",
      "execution_count": 75,
      "metadata": {
        "colab": {
          "base_uri": "https://localhost:8080/"
        },
        "id": "OaDAITLGCeAW",
        "outputId": "bbed99c8-e4e3-467f-bc4b-a92905252870"
      },
      "outputs": [
        {
          "output_type": "stream",
          "name": "stdout",
          "text": [
            "                 name  note  tentatives qualification\n",
            "étiquettes                                           \n",
            "a           Anastasia  12.5           1           oui\n",
            "b                Dima   9.0           3           non\n",
            "c           Katherine  16.5           2           oui\n",
            "d               James   NaN           3           non\n",
            "e               Emily   9.0           2           non\n",
            "f             Michael  20.0           3           oui\n",
            "g            Matthieu  14.5           1           oui\n",
            "h               Laura   NaN           1           non\n",
            "i               Kevin   8.0           2           non\n",
            "j               Jonas  19.0           1           oui\n",
            "                 name  note  tentatives qualification\n",
            "étiquettes                                           \n",
            "a           Anastasia  12.5           1           oui\n",
            "b                Dima   9.0           3           non\n",
            "c           Katherine  16.5           2           oui\n",
            "                 name  note  tentatives qualification\n",
            "étiquettes                                           \n",
            "a           Anastasia  12.5           1           oui\n",
            "b                Dima   9.0           3           non\n",
            "c           Katherine  16.5           2           oui\n",
            "e               Emily   9.0           2           non\n",
            "f             Michael  20.0           3           oui\n",
            "g            Matthieu  14.5           1           oui\n",
            "i               Kevin   8.0           2           non\n",
            "j               Jonas  19.0           1           oui\n",
            "                 name  note\n",
            "étiquettes                 \n",
            "a           Anastasia  12.5\n",
            "b                Dima   9.0\n",
            "c           Katherine  16.5\n",
            "d               James   NaN\n",
            "e               Emily   9.0\n",
            "f             Michael  20.0\n",
            "g            Matthieu  14.5\n",
            "h               Laura   NaN\n",
            "i               Kevin   8.0\n",
            "j               Jonas  19.0\n",
            "              name  note  tentatives qualification\n",
            "étiquettes                                        \n",
            "k           Suresh  15.5           1           oui\n",
            "                 name  note  tentatives qualification\n",
            "étiquettes                                           \n",
            "a           Anastasia  12.5           1           oui\n",
            "b                Dima   9.0           3           non\n",
            "c           Katherine  16.5           2           oui\n",
            "d               James   NaN           3           non\n",
            "e               Emily   9.0           2           non\n",
            "f             Michael  20.0           3           oui\n",
            "g            Matthieu  14.5           1           oui\n",
            "h               Laura   NaN           1           non\n",
            "i               Kevin   8.0           2           non\n",
            "j               Jonas  19.0           1           oui\n",
            "k              Suresh  15.5           1           oui\n",
            "                 name  note qualification\n",
            "étiquettes                               \n",
            "a           Anastasia  12.5           oui\n",
            "b                Dima   9.0           non\n",
            "c           Katherine  16.5           oui\n",
            "d               James   NaN           non\n",
            "e               Emily   9.0           non\n",
            "f             Michael  20.0           oui\n",
            "g            Matthieu  14.5           oui\n",
            "h               Laura   NaN           non\n",
            "i               Kevin   8.0           non\n",
            "j               Jonas  19.0           oui\n",
            "k              Suresh  15.5           oui\n",
            "                 name  note qualification  Succès\n",
            "étiquettes                                       \n",
            "a           Anastasia  12.5           oui       1\n",
            "b                Dima   9.0           non       0\n",
            "c           Katherine  16.5           oui       1\n",
            "d               James   NaN           non       0\n",
            "e               Emily   9.0           non       0\n",
            "f             Michael  20.0           oui       1\n",
            "g            Matthieu  14.5           oui       1\n",
            "h               Laura   NaN           non       0\n",
            "i               Kevin   8.0           non       0\n",
            "j               Jonas  19.0           oui       1\n",
            "k              Suresh  15.5           oui       1\n"
          ]
        }
      ],
      "source": [
        "import pandas as pd\n",
        "import numpy as np\n",
        "exam_data  = { 'étiquettes' : ['a', 'b', 'c', 'd', 'e', 'f', 'g', 'h', 'i', 'j'],\n",
        "    'name' :  ['Anastasia', 'Dima', 'Katherine', 'James', 'Emily', 'Michael', 'Matthieu', 'Laura', 'Kevin', 'Jonas'],\n",
        "    'note' : [12.5, 9, 16.5, np.nan, 9, 20, 14.5, np.nan, 8, 19],\n",
        "    'tentatives' : [1, 3, 2, 3, 2, 3, 1, 1, 2, 1],\n",
        "    'qualification' : ['oui', 'non', 'oui', 'non', 'non', 'oui', 'oui', 'non', 'non', 'oui']}\n",
        "\n",
        "df = pd.DataFrame(exam_data)\n",
        "df= df.set_index('étiquettes')\n",
        "print(df)\n",
        "df1=df.head(3)\n",
        "print(df1)\n",
        "df2=df.dropna()\n",
        "print(df2)\n",
        "df3=df[['name', 'note']]\n",
        "print(df3)\n",
        "exam_data2  = { 'étiquettes' : ['k'], 'name' : ['Suresh'], 'note' : [15.5], 'tentatives' : [1], 'qualification' : ['oui']}\n",
        "df4=pd.DataFrame(exam_data2)\n",
        "df4=df4.set_index('étiquettes')\n",
        "print(df4)\n",
        "df5= pd.concat([df,df4])\n",
        "print(df5)\n",
        "df6=df5.drop(\"tentatives\", axis=1)\n",
        "print(df6)\n",
        "df7['Succès']= df6.apply(lambda x: 1 if x['note']>10 else 0, axis=1)\n",
        "print(df7)\n",
        "df7.to_csv('my_data.csv')\n"
      ]
    }
  ]
}