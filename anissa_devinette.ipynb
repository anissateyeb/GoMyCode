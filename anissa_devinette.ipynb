{
  "nbformat": 4,
  "nbformat_minor": 0,
  "metadata": {
    "colab": {
      "provenance": [],
      "authorship_tag": "ABX9TyN4hkBN0xwtGnYW0ph3/n5q",
      "include_colab_link": true
    },
    "kernelspec": {
      "name": "python3",
      "display_name": "Python 3"
    },
    "language_info": {
      "name": "python"
    }
  },
  "cells": [
    {
      "cell_type": "markdown",
      "metadata": {
        "id": "view-in-github",
        "colab_type": "text"
      },
      "source": [
        "<a href=\"https://colab.research.google.com/github/anissateyeb/GoMyCode/blob/main/anissa_devinette.ipynb\" target=\"_parent\"><img src=\"https://colab.research.google.com/assets/colab-badge.svg\" alt=\"Open In Colab\"/></a>"
      ]
    },
    {
      "cell_type": "code",
      "execution_count": 34,
      "metadata": {
        "colab": {
          "base_uri": "https://localhost:8080/"
        },
        "id": "BTw6fJR9NVCh",
        "outputId": "2e29a2fb-64f1-4443-a18c-4ba33cf3e86a"
      },
      "outputs": [
        {
          "output_type": "stream",
          "name": "stdout",
          "text": [
            "Welcome to the Guess the Number game!\n",
            "59\n",
            "Enter your guess: 7\n",
            "Your guess is too low. Guess again.\n",
            "Enter your guess: 88\n",
            "Your guess is too high. Guess again.\n",
            "Enter your guess: 44\n",
            "Your guess is too low. Guess again.\n",
            "Enter your guess: 59\n",
            "Congratulations! You guessed the number correctly!\n"
          ]
        }
      ],
      "source": [
        "print('Welcome to the Guess the Number game!')\n",
        "import random\n",
        "x=random.randint(1,100)\n",
        "print(x)\n",
        "while x!=y:\n",
        "  str=input(\"Enter your guess: \")\n",
        "  y=int(str)\n",
        "  if y<x:\n",
        "    print('Your guess is too low. Guess again.')\n",
        "  elif y>x:\n",
        "    print('Your guess is too high. Guess again.')\n",
        "  else:\n",
        "    print('Congratulations! You guessed the number correctly!')\n",
        "\n"
      ]
    }
  ]
}