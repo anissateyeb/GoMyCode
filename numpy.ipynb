{
  "nbformat": 4,
  "nbformat_minor": 0,
  "metadata": {
    "colab": {
      "provenance": [],
      "authorship_tag": "ABX9TyOSxcCvqxwqS6xUydfHjO60",
      "include_colab_link": true
    },
    "kernelspec": {
      "name": "python3",
      "display_name": "Python 3"
    },
    "language_info": {
      "name": "python"
    }
  },
  "cells": [
    {
      "cell_type": "markdown",
      "metadata": {
        "id": "view-in-github",
        "colab_type": "text"
      },
      "source": [
        "<a href=\"https://colab.research.google.com/github/anissateyeb/GoMyCode/blob/main/numpy.ipynb\" target=\"_parent\"><img src=\"https://colab.research.google.com/assets/colab-badge.svg\" alt=\"Open In Colab\"/></a>"
      ]
    },
    {
      "cell_type": "code",
      "execution_count": null,
      "metadata": {
        "colab": {
          "base_uri": "https://localhost:8080/"
        },
        "id": "0pV7GNMZC86b",
        "outputId": "48f21f5b-e67b-42d6-9342-3e63cbc1a689"
      },
      "outputs": [
        {
          "name": "stdout",
          "output_type": "stream",
          "text": [
            "Entrer le nombre d'élèves 2\n",
            "Entrer le nombre de matières 3\n",
            "Donner la note 1 de l'élève 1. 20\n",
            "Donner la note 1 de l'élève 2. 30\n"
          ]
        }
      ],
      "source": [
        "nbe = int(input(\"Entrer le nombre d'élèves \")) #nombre d'élèves\n",
        "nbm = int(input(\"Entrer le nombre de matières \"))#ombre de matières\n",
        "import numpy as np\n",
        "T_notes = np.zeros((nbe,nbm))\n",
        "for i in range(nbe):\n",
        "  for j in range(nbm):\n",
        "    x= int(input(\"Donner la note {0} de l'élève {1}. \".format(j+1, i+1)))\n",
        "    while x >= 100 or x<=0:\n",
        "      x= int(input(\"Donner la note {0} de l'élève {1}. \".format(j+1, i+1)))\n",
        "    T_notes[i][j] = x\n",
        "print(T_notes)\n",
        "for i in range(nbe):\n",
        "  sum=0\n",
        "  list=[]\n",
        "  for j in range(nbm):\n",
        "    list.append(T_notes[i][j])\n",
        "  sum=np.sum(list)\n",
        "  pourcentage = (sum / (nbm * 100)) * 100\n",
        "\n",
        "  if pourcentage>= 90:\n",
        "    print(sum, \" \", pourcentage, \" \", \"A+\")\n",
        "  elif pourcentage >= 80:\n",
        "        print(sum, \" \", pourcentage, \" \", \"A\")\n",
        "  elif pourcentage >= 70:\n",
        "    print(sum, \" \", pourcentage, \" \", \"B+\")\n",
        "  elif pourcentage >= 60:\n",
        "    print(sum, \" \", pourcentage, \" \", \"B\")\n",
        "  elif pourcentage >= 50:\n",
        "    print(sum, \" \", pourcentage, \" \", \"C\")\n",
        "  else:\n",
        "    print(sum, \" \", pourcentage, \" \", \"F\")\n",
        ""
      ]
    }
  ]
}